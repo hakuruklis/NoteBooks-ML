{
 "cells": [
  {
   "cell_type": "markdown",
   "metadata": {},
   "source": [
    "# El método de k-means"
   ]
  },
  {
   "cell_type": "code",
   "execution_count": 1,
   "metadata": {},
   "outputs": [],
   "source": [
    "import numpy as np"
   ]
  },
  {
   "cell_type": "code",
   "execution_count": 2,
   "metadata": {},
   "outputs": [
    {
     "data": {
      "text/plain": [
       "array([[0.41505246, 0.69568281, 0.85916982],\n",
       "       [0.94118914, 0.67326072, 0.98883003],\n",
       "       [0.05686858, 0.21693112, 0.23831007],\n",
       "       [0.46301287, 0.58520837, 0.80656563],\n",
       "       [0.52966822, 0.04041169, 0.23888831],\n",
       "       [0.87276717, 0.20005652, 0.98509997],\n",
       "       [0.6833192 , 0.78384328, 0.63036123],\n",
       "       [0.254006  , 0.2123997 , 0.65313105],\n",
       "       [0.5078382 , 0.29551305, 0.17972665],\n",
       "       [0.2749047 , 0.02368147, 0.2215364 ],\n",
       "       [0.12980423, 0.11162321, 0.47784785],\n",
       "       [0.30623856, 0.767395  , 0.61053507],\n",
       "       [0.58759818, 0.86572175, 0.44347183],\n",
       "       [0.33280877, 0.08611415, 0.99886629],\n",
       "       [0.21562632, 0.6580484 , 0.94736633],\n",
       "       [0.16271179, 0.11367358, 0.01743521],\n",
       "       [0.36005437, 0.77427934, 0.60686919],\n",
       "       [0.33737506, 0.09231906, 0.54521685],\n",
       "       [0.7478034 , 0.14655933, 0.43668723],\n",
       "       [0.55247327, 0.00586974, 0.02414921],\n",
       "       [0.93923027, 0.10899699, 0.91960588],\n",
       "       [0.03294405, 0.12966345, 0.12046792],\n",
       "       [0.50896525, 0.83154457, 0.77427826],\n",
       "       [0.62076114, 0.8209305 , 0.18098572],\n",
       "       [0.68557314, 0.54013378, 0.85055879],\n",
       "       [0.5372955 , 0.39719112, 0.57875993],\n",
       "       [0.45604975, 0.50375029, 0.51023278],\n",
       "       [0.37095511, 0.47900792, 0.96961619],\n",
       "       [0.36887805, 0.56042592, 0.46370234],\n",
       "       [0.03979953, 0.2341836 , 0.99676966]])"
      ]
     },
     "execution_count": 2,
     "metadata": {},
     "output_type": "execute_result"
    }
   ],
   "source": [
    "data = np.random.random(90).reshape(30,3)\n",
    "data"
   ]
  },
  {
   "cell_type": "code",
   "execution_count": 4,
   "metadata": {},
   "outputs": [
    {
     "data": {
      "text/plain": [
       "array([[0.55247327, 0.00586974, 0.02414921],\n",
       "       [0.7478034 , 0.14655933, 0.43668723]])"
      ]
     },
     "execution_count": 4,
     "metadata": {},
     "output_type": "execute_result"
    }
   ],
   "source": [
    "c1 = np.random.choice(range(len(data)))\n",
    "c2 = np.random.choice(range(len(data)))\n",
    "clust_centers = np.vstack([data[c1], data[c2]])\n",
    "clust_centers"
   ]
  },
  {
   "cell_type": "code",
   "execution_count": 5,
   "metadata": {},
   "outputs": [],
   "source": [
    "from scipy.cluster.vq import vq"
   ]
  },
  {
   "cell_type": "code",
   "execution_count": 6,
   "metadata": {},
   "outputs": [
    {
     "data": {
      "text/plain": [
       "(array([1, 1, 0, 1, 0, 1, 1, 1, 0, 0, 1, 1, 1, 1, 1, 0, 1, 1, 1, 0, 1, 0,\n",
       "        1, 1, 1, 1, 1, 1, 1, 1]),\n",
       " array([0.76860349, 0.78719379, 0.57968594, 0.64056901, 0.21869179,\n",
       "        0.56500834, 0.6691776 , 0.54315629, 0.33179795, 0.34106197,\n",
       "        0.62035289, 0.78143427, 0.73682178, 0.70136971, 0.89756707,\n",
       "        0.40445118, 0.75719457, 0.42798611, 0.        , 0.        ,\n",
       "        0.52083163, 0.54269033, 0.80013508, 0.73232471, 0.5745112 ,\n",
       "        0.35681161, 0.46702732, 0.73249572, 0.56178269, 0.90699494]))"
      ]
     },
     "execution_count": 6,
     "metadata": {},
     "output_type": "execute_result"
    }
   ],
   "source": [
    "vq(data, clust_centers)"
   ]
  },
  {
   "cell_type": "code",
   "execution_count": 7,
   "metadata": {},
   "outputs": [],
   "source": [
    "from scipy.cluster.vq import kmeans"
   ]
  },
  {
   "cell_type": "code",
   "execution_count": 8,
   "metadata": {},
   "outputs": [
    {
     "data": {
      "text/plain": [
       "(array([[0.33323915, 0.11762457, 0.25002657],\n",
       "        [0.49795904, 0.53890874, 0.7387388 ]]), 0.34808697913285797)"
      ]
     },
     "execution_count": 8,
     "metadata": {},
     "output_type": "execute_result"
    }
   ],
   "source": [
    "kmeans(data, clust_centers)"
   ]
  },
  {
   "cell_type": "code",
   "execution_count": 9,
   "metadata": {},
   "outputs": [
    {
     "data": {
      "text/plain": [
       "(array([[0.51079867, 0.55609342, 0.74324447],\n",
       "        [0.32603614, 0.12624049, 0.28667243]]), 0.34714420593579415)"
      ]
     },
     "execution_count": 9,
     "metadata": {},
     "output_type": "execute_result"
    }
   ],
   "source": [
    "kmeans(data, 2)"
   ]
  },
  {
   "cell_type": "markdown",
   "metadata": {},
   "source": []
  },
  {
   "cell_type": "code",
   "execution_count": 10,
   "metadata": {},
   "outputs": [],
   "source": [
    "from sklearn.cluster import DBSCAN"
   ]
  },
  {
   "cell_type": "code",
   "execution_count": null,
   "metadata": {},
   "outputs": [],
   "source": []
  }
 ],
 "metadata": {
  "kernelspec": {
   "display_name": "Python 3",
   "language": "python",
   "name": "python3"
  },
  "language_info": {
   "codemirror_mode": {
    "name": "ipython",
    "version": 3
   },
   "file_extension": ".py",
   "mimetype": "text/x-python",
   "name": "python",
   "nbconvert_exporter": "python",
   "pygments_lexer": "ipython3",
   "version": "3.7.3"
  }
 },
 "nbformat": 4,
 "nbformat_minor": 2
}
